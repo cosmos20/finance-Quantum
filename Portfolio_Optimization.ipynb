{
 "cells": [
  {
   "cell_type": "code",
   "execution_count": 1,
   "id": "2dedadf9-bf67-4971-be30-05b8b6c5be5c",
   "metadata": {},
   "outputs": [],
   "source": [
    "from qiskit import Aer\n",
    "from qiskit.algorithms import VQE, QAOA, NumPyMinimumEigensolver\n",
    "from qiskit.algorithms.optimizers import COBYLA\n",
    "from qiskit.circuit.library import TwoLocal\n",
    "from qiskit.utils import QuantumInstance\n",
    "from qiskit_finance.applications.optimization import PortfolioOptimization\n",
    "from qiskit_finance.data_providers import RandomDataProvider\n",
    "from qiskit_optimization.algorithms import MinimumEigenOptimizer\n",
    "from qiskit_optimization.applications import OptimizationApplication\n",
    "from qiskit_optimization.converters import QuadraticProgramToQubo\n",
    "import numpy as np\n",
    "import matplotlib.pyplot as plt\n",
    "import datetime"
   ]
  },
  {
   "cell_type": "code",
   "execution_count": 2,
   "id": "515260f0-ded0-4d57-8ebc-1ae88b1d24f8",
   "metadata": {},
   "outputs": [],
   "source": [
    "# set number of assets (= number of qubits)\n",
    "num_assets = 4\n",
    "seed = 123\n",
    "\n",
    "# Generate expected return and covariance matrix from (random) time-series\n",
    "stocks = [(\"TICKER%s\" % i) for i in range(num_assets)]\n",
    "data = RandomDataProvider(tickers=stocks,\n",
    "                 start=datetime.datetime(2016,1,1),\n",
    "                 end=datetime.datetime(2016,1,30),\n",
    "                 seed=seed)\n",
    "data.run()\n",
    "mu = data.get_period_return_mean_vector()\n",
    "sigma = data.get_period_return_covariance_matrix()"
   ]
  },
  {
   "cell_type": "code",
   "execution_count": 3,
   "id": "04d59a5e-4a56-4d2e-8ad1-b502a7040a0c",
   "metadata": {},
   "outputs": [
    {
     "data": {
      "image/png": "[encoded data removed]",
      "text/plain": [
       "<Figure size 432x288 with 1 Axes>"
      ]
     },
     "metadata": {
      "needs_background": "light"
     },
     "output_type": "display_data"
    }
   ],
   "source": [
    "# plot sigma\n",
    "plt.imshow(sigma, interpolation='nearest')\n",
    "plt.show()"
   ]
  },
  {
   "cell_type": "code",
   "execution_count": 4,
   "id": "0fee10b2-788c-4dd2-a3f6-c2ec8c77aaa5",
   "metadata": {},
   "outputs": [
    {
     "data": {
      "text/plain": [
       "\\ This file has been generated by DOcplex\n",
       "\\ ENCODING=ISO-8859-1\n",
       "\\Problem name: Portfolio optimization\n",
       "\n",
       "Minimize\n",
       " obj: - 0.015284386652 x_0 + 0.000780952145 x_1 - 0.000517920547 x_2\n",
       "      - 0.000870005837 x_3 + [ 0.002541388592 x_0^2 + 0.000146804433 x_0*x_1\n",
       "      + 0.000257201062 x_0*x_2 - 0.000199722426 x_0*x_3 + 0.000258486713 x_1^2\n",
       "      + 0.000106085519 x_1*x_2 + 0.000088963242 x_1*x_3 + 0.000791504681 x_2^2\n",
       "      - 0.000247774763 x_2*x_3 + 0.000197892585 x_3^2 ]/2\n",
       "Subject To\n",
       " c0: x_0 + x_1 + x_2 + x_3 = 2\n",
       "\n",
       "Bounds\n",
       " 0 <= x_0 <= 1\n",
       " 0 <= x_1 <= 1\n",
       " 0 <= x_2 <= 1\n",
       " 0 <= x_3 <= 1\n",
       "\n",
       "Binaries\n",
       " x_0 x_1 x_2 x_3\n",
       "End"
      ]
     },
     "execution_count": 4,
     "metadata": {},
     "output_type": "execute_result"
    }
   ],
   "source": [
    "q = 0.5                   # set risk factor\n",
    "budget = num_assets // 2  # set budget\n",
    "penalty = num_assets      # set parameter to scale the budget penalty term\n",
    "\n",
    "portfolio = PortfolioOptimization(expected_returns=mu, covariances=sigma, risk_factor=q, budget=budget)\n",
    "qp = portfolio.to_quadratic_program()\n",
    "qp"
   ]
  },
  {
   "cell_type": "code",
   "execution_count": 5,
   "id": "c8371b2b-4229-4f4b-b457-3486b6ac70fd",
   "metadata": {},
   "outputs": [],
   "source": [
    "def index_to_selection(i, num_assets):\n",
    "    s = \"{0:b}\".format(i).rjust(num_assets)\n",
    "    x = np.array([1 if s[i]=='1' else 0 for i in reversed(range(num_assets))])\n",
    "    return x\n",
    "\n",
    "def print_result(result):\n",
    "    selection = result.x\n",
    "    value = result.fval\n",
    "    print('Optimal: selection {}, value {:.4f}'.format(selection, value))\n",
    "\n",
    "    eigenstate = result.min_eigen_solver_result.eigenstate\n",
    "    eigenvector = eigenstate if isinstance(eigenstate, np.ndarray) else eigenstate.to_matrix()\n",
    "    probabilities = np.abs(eigenvector)**2\n",
    "    i_sorted = reversed(np.argsort(probabilities))\n",
    "    print('\\n----------------- Full result ---------------------')\n",
    "    print('selection\\tvalue\\t\\tprobability')\n",
    "    print('---------------------------------------------------')\n",
    "    for i in i_sorted:\n",
    "        x = index_to_selection(i, num_assets)\n",
    "        value = QuadraticProgramToQubo().convert(qp).objective.evaluate(x)\n",
    "        #value = portfolio.to_quadratic_program().objective.evaluate(x)\n",
    "        probability = probabilities[i]\n",
    "        print('%10s\\t%.4f\\t\\t%.4f' %(x, value, probability))"
   ]
  },
  {
   "cell_type": "code",
   "execution_count": 6,
   "id": "e494142c-2d13-43a7-a2bf-0af929e1e089",
   "metadata": {},
   "outputs": [
    {
     "name": "stdout",
     "output_type": "stream",
     "text": [
      "Optimal: selection [1. 0. 0. 1.], value -0.0149\n",
      "\n",
      "----------------- Full result ---------------------\n",
      "selection\tvalue\t\tprobability\n",
      "---------------------------------------------------\n",
      " [1 0 0 1]\t-0.0149\t\t1.0000\n",
      " [1 1 1 1]\t4.0656\t\t0.0000\n",
      " [0 1 1 1]\t1.0199\t\t0.0000\n",
      " [1 0 1 1]\t1.0049\t\t0.0000\n",
      " [0 0 1 1]\t-0.0010\t\t0.0000\n",
      " [1 1 0 1]\t1.0060\t\t0.0000\n",
      " [0 1 0 1]\t0.0002\t\t0.0000\n",
      " [0 0 0 1]\t1.0191\t\t0.0000\n",
      " [1 1 1 0]\t1.0069\t\t0.0000\n",
      " [0 1 1 0]\t0.0008\t\t0.0000\n",
      " [1 0 1 0]\t-0.0140\t\t0.0000\n",
      " [0 0 1 0]\t1.0197\t\t0.0000\n",
      " [1 1 0 0]\t-0.0130\t\t0.0000\n",
      " [0 1 0 0]\t1.0208\t\t0.0000\n",
      " [1 0 0 0]\t1.0059\t\t0.0000\n",
      " [0 0 0 0]\t4.0795\t\t0.0000\n"
     ]
    }
   ],
   "source": [
    "exact_mes = NumPyMinimumEigensolver()\n",
    "exact_eigensolver = MinimumEigenOptimizer(exact_mes)\n",
    "\n",
    "result = exact_eigensolver.solve(qp)\n",
    "\n",
    "print_result(result)"
   ]
  },
  {
   "cell_type": "code",
   "execution_count": 7,
   "id": "e2119305-54e0-406b-bd66-bfd9cc95c8c7",
   "metadata": {},
   "outputs": [
    {
     "name": "stdout",
     "output_type": "stream",
     "text": [
      "Optimal: selection [1. 0. 0. 1.], value -0.0149\n",
      "\n",
      "----------------- Full result ---------------------\n",
      "selection\tvalue\t\tprobability\n",
      "---------------------------------------------------\n",
      " [1 0 0 1]\t-0.0149\t\t0.8456\n",
      " [0 0 1 1]\t-0.0010\t\t0.1036\n",
      " [1 1 0 0]\t-0.0130\t\t0.0471\n",
      " [0 1 1 0]\t0.0008\t\t0.0018\n",
      " [1 0 1 0]\t-0.0140\t\t0.0016\n",
      " [0 1 0 1]\t0.0002\t\t0.0003\n",
      " [1 1 1 0]\t1.0069\t\t0.0000\n",
      " [0 1 1 1]\t1.0199\t\t0.0000\n",
      " [0 0 1 0]\t1.0197\t\t0.0000\n",
      " [1 1 0 1]\t1.0060\t\t0.0000\n",
      " [1 1 1 1]\t4.0656\t\t0.0000\n",
      " [0 0 0 0]\t4.0795\t\t0.0000\n",
      " [1 0 1 1]\t1.0049\t\t0.0000\n",
      " [1 0 0 0]\t1.0059\t\t0.0000\n",
      " [0 0 0 1]\t1.0191\t\t0.0000\n",
      " [0 1 0 0]\t1.0208\t\t0.0000\n"
     ]
    }
   ],
   "source": [
    "from qiskit.utils import algorithm_globals\n",
    "\n",
    "algorithm_globals.random_seed = 1234\n",
    "backend = Aer.get_backend('statevector_simulator')\n",
    "\n",
    "cobyla = COBYLA()\n",
    "cobyla.set_options(maxiter=500)\n",
    "ry = TwoLocal(num_assets, 'ry', 'cz', reps=3, entanglement='full')\n",
    "quantum_instance = QuantumInstance(backend=backend, seed_simulator=seed, seed_transpiler=seed)\n",
    "vqe_mes = VQE(ry, optimizer=cobyla, quantum_instance=quantum_instance)\n",
    "vqe = MinimumEigenOptimizer(vqe_mes)\n",
    "result = vqe.solve(qp)\n",
    "\n",
    "print_result(result)"
   ]
  },
  {
   "cell_type": "code",
   "execution_count": 8,
   "id": "c8a736a6-7239-41e1-9aa5-2d51c202403c",
   "metadata": {},
   "outputs": [
    {
     "name": "stdout",
     "output_type": "stream",
     "text": [
      "Optimal: selection [1. 0. 0. 1.], value -0.0149\n",
      "\n",
      "----------------- Full result ---------------------\n",
      "selection\tvalue\t\tprobability\n",
      "---------------------------------------------------\n",
      " [0 1 1 0]\t0.0008\t\t0.1710\n",
      " [0 1 0 1]\t0.0002\t\t0.1707\n",
      " [0 0 1 1]\t-0.0010\t\t0.1700\n",
      " [1 1 0 0]\t-0.0130\t\t0.1632\n",
      " [1 0 1 0]\t-0.0140\t\t0.1627\n",
      " [1 0 0 1]\t-0.0149\t\t0.1621\n",
      " [1 1 1 1]\t4.0656\t\t0.0001\n",
      " [0 0 0 0]\t4.0795\t\t0.0001\n",
      " [0 1 0 0]\t1.0208\t\t0.0000\n",
      " [1 0 1 1]\t1.0049\t\t0.0000\n",
      " [0 0 1 0]\t1.0197\t\t0.0000\n",
      " [0 0 0 1]\t1.0191\t\t0.0000\n",
      " [1 1 0 1]\t1.0060\t\t0.0000\n",
      " [1 1 1 0]\t1.0069\t\t0.0000\n",
      " [0 1 1 1]\t1.0199\t\t0.0000\n",
      " [1 0 0 0]\t1.0059\t\t0.0000\n"
     ]
    }
   ],
   "source": [
    "algorithm_globals.random_seed = 1234\n",
    "backend = Aer.get_backend('statevector_simulator')\n",
    "\n",
    "cobyla = COBYLA()\n",
    "cobyla.set_options(maxiter=250)\n",
    "quantum_instance = QuantumInstance(backend=backend, seed_simulator=seed, seed_transpiler=seed)\n",
    "qaoa_mes = QAOA(optimizer=cobyla, reps=3, quantum_instance=quantum_instance)\n",
    "qaoa = MinimumEigenOptimizer(qaoa_mes)\n",
    "result = qaoa.solve(qp)\n",
    "\n",
    "print_result(result)"
   ]
  },
  {
   "cell_type": "code",
   "execution_count": null,
   "id": "153b7f83-81e6-441b-b22b-122623064128",
   "metadata": {},
   "outputs": [],
   "source": []
  }
 ],
 "metadata": {
  "kernelspec": {
   "display_name": "Qiskit v0.30.1 (ipykernel)",
   "language": "python",
   "name": "python3"
  },
  "language_info": {
   "codemirror_mode": {
    "name": "ipython",
    "version": 3
   },
   "file_extension": ".py",
   "mimetype": "text/x-python",
   "name": "python",
   "nbconvert_exporter": "python",
   "pygments_lexer": "ipython3",
   "version": "3.8.10"
  },
  "widgets": {
   "application/vnd.jupyter.widget-state+json": {
    "state": {},
    "version_major": 2,
    "version_minor": 0
   }
  }
 },
 "nbformat": 4,
 "nbformat_minor": 5
}
